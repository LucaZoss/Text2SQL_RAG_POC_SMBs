{
 "cells": [
  {
   "cell_type": "code",
   "execution_count": 50,
   "metadata": {},
   "outputs": [
    {
     "name": "stdout",
     "output_type": "stream",
     "text": [
      "/Users/lucazosso/Desktop/IE_Course/weclomeback/welcomeback_dev/text2sql_rag/evaluation\n",
      "/Users/lucazosso/Desktop/IE_Course/weclomeback/welcomeback_dev/data_science_folder/cleaned\n"
     ]
    }
   ],
   "source": [
    "import pandas as pd\n",
    "import numpy as np\n",
    "import os\n",
    "from pathlib import Path\n",
    "from datetime import datetime\n",
    "cur_dir = Path(os.getcwd())\n",
    "print(cur_dir)\n",
    "# Target directory\n",
    "target_dir = cur_dir.parents[1] / \"data_science_folder\" / \"cleaned\"\n",
    "print(target_dir)"
   ]
  },
  {
   "cell_type": "code",
   "execution_count": 51,
   "metadata": {},
   "outputs": [],
   "source": [
    "hourly_orders_vanilla = pd.read_csv(os.path.join(target_dir, 'hourly_orders_detailed_vanilla.csv'))\n",
    "rfm = pd.read_csv(os.path.join(target_dir, 'rfm_data.csv'))"
   ]
  },
  {
   "cell_type": "code",
   "execution_count": 52,
   "metadata": {},
   "outputs": [],
   "source": [
    "# Data Prep\n",
    "hourly_orders_vanilla['date'] = pd.to_datetime(hourly_orders_vanilla['date'])\n",
    "hourly_orders_vanilla['date'] = pd.to_datetime(hourly_orders_vanilla['date']).dt.date\n",
    "hourly_orders_vanilla['month'] = pd.to_datetime(hourly_orders_vanilla['date']).dt.month\n",
    "hourly_orders_vanilla['year'] = pd.to_datetime(hourly_orders_vanilla['date']).dt.year"
   ]
  },
  {
   "cell_type": "code",
   "execution_count": 53,
   "metadata": {},
   "outputs": [],
   "source": [
    "level_0_questions = [\n",
    "    \"What is the total number of entries in the orders dataset?\",\n",
    "    \"List all unique years in the dataset.\",\n",
    "    \"What is the highest gross revenue recorded for any order?\",\n",
    "    \"Is there any order data for the month of January?\",\n",
    "    \"Are there any entries on the most recent day of data collection?\",\n",
    "    \"Name one product category available in the dataset.\",\n",
    "    \"Does the dataset contain orders from the postcode '12345'?\",\n",
    "    \"Name one customer by their ID.\",\n",
    "    \"Is there any order data from the B2B channel?\",\n",
    "    \"Does the dataset include any internal orders?\"\n",
    "]\n",
    "\n",
    "\n",
    "level_1_questions = [\n",
    "    \"How many total orders are recorded?\",\n",
    "    \"What is the total gross revenue?\",\n",
    "    \"How many unique products have been sold?\",\n",
    "    \"Count the number of orders from the most recent date.\",\n",
    "    \"Find the minimum and maximum gross revenue per order.\",\n",
    "    \"How many orders were placed in the last week of 2023?\",\n",
    "    \"What is the total number of B2B orders?\",\n",
    "    \"What is the total number of marketplace orders?\",\n",
    "    \"What is the average order value (AOV)?\",\n",
    "    \"What is the earliest date in the dataset?\"\n",
    "]\n",
    "\n",
    "\n",
    "\n",
    "\n",
    "level_2_questions = [\n",
    "    \"What is the most recent date in the dataset?\",\n",
    "    \"How many unique customers are there?\",\n",
    "    \"What is the average number of orders per customer?\",\n",
    "    \"What are the top 5 most common postcodes for orders?\",\n",
    "    \"List the top 5 most frequent product names by order count.\",\n",
    "    \"What is the average total gross revenue from internal orders?\",\n",
    "    \"How many B2B orders are there?\",\n",
    "    \"Which day of the week has the highest average orders?\",\n",
    "    \"What is the total cost of goods sold (COGS)?\",\n",
    "    \"What is the total revenue for B2B orders?\"\n",
    "]\n",
    "\n",
    "\n",
    "\n",
    "\n",
    "\n",
    "level_3_questions = [\n",
    "    \"How many products are in the 'Sports' main category?\",\n",
    "    \"What is the average revenue per month?\",\n",
    "    \"Which customer segment has the highest average order value?\",\n",
    "    \"How many orders are above the average order value?\",\n",
    "    \"What is the most common RFM segment?\",\n",
    "    \"What percentage of total orders are from internal website?\",\n",
    "    \"Which product category has the highest total revenue?\",\n",
    "    \"Retrieve the total number of orders for each month.\",\n",
    "    \"What is the total number of unique products sold each month?\",\n",
    "    \"What is my best selling product?\"\n",
    "]\n",
    "\n",
    "\n",
    "level_4_questions = [\n",
    "    \"Calculate total orders, total revenue, and average order value for each month.\",\n",
    "    \"Compare the total number of orders and total revenue per month to the previous month.\",\n",
    "    \"Examine the monthly trend of average COGS.\",\n",
    "    \"Identify the postcode with the greatest increase in orders year-over-year.\",\n",
    "    \"What is the average monthly revenue growth over the year?\",\n",
    "    \"Identify the customer with the highest total revenue.\",\n",
    "    \"Calculate the average monetary value per RFM segment and compare it with the average order value (AOV) of the entire dataset.\",\n",
    "    \"Evaluate the effectiveness of the marketplace channel based on total orders and revenue.\",\n",
    "    \"Analyze seasonal patterns in order volumes by month and day of the week.\",\n",
    "    \"Compare revenue from B2B orders to revenue from Marketplace orders.\"\n",
    "]\n",
    "\n",
    "\n",
    "\n",
    "\n"
   ]
  },
  {
   "cell_type": "code",
   "execution_count": 54,
   "metadata": {},
   "outputs": [
    {
     "name": "stdout",
     "output_type": "stream",
     "text": [
      "dict_keys(['What is the total number of entries in the orders dataset?', 'List all unique years in the dataset.', 'What is the highest gross revenue recorded for any order?', 'Is there any order data for the month of January?', 'Are there any entries on the most recent day of data collection?', 'Name one product category available in the dataset.', \"Does the dataset contain orders from the postcode '12345'?\", 'Name one customer by their ID.', 'Is there any order data from the B2B channel?', 'Does the dataset include any internal orders?'])\n",
      "dict_keys(['How many total orders are recorded?', 'What is the total gross revenue?', 'How many unique products have been sold?', 'Count the number of orders from the most recent date.', 'Find the minimum and maximum gross revenue per order.', 'How many orders were placed in the last week of 2023?', 'What is the total number of B2B orders?', 'What is the total number of marketplace orders?', 'What is the average order value (AOV)?', 'What is the earliest date in the dataset?'])\n",
      "dict_keys(['What is the most recent date in the dataset?', 'How many unique customers are there?', 'What is the average number of orders per customer?', 'What are the top 5 most common postcodes for orders?', 'List the top 5 most frequent product names by order count.', 'What is the average total gross revenue from internal orders?', 'How many B2B orders are there?', 'Which day of the week has the highest average orders?', 'What is the total cost of goods sold (COGS)?', 'What is the total revenue for B2B orders?'])\n",
      "dict_keys([\"How many products are in the 'Sports' main category?\", 'What is the average revenue per month?', 'Which customer segment has the highest average order value?', 'How many orders are above the average order value?', 'What is the most common RFM segment?', 'What percentage of total orders are from internal website?', 'Which product category has the highest total revenue?', 'Retrieve the total number of orders for each month.', 'What is the total number of unique products sold each month?', 'What is my best selling product?'])\n",
      "dict_keys(['Calculate total orders, total revenue, and average order value for each month.', 'Compare the total number of orders and total revenue per month to the previous month.', 'Examine the monthly trend of average COGS.', 'Identify the postcode with the greatest increase in orders year-over-year.', 'What is the average monthly revenue growth over the year?', 'Identify the customer with the highest total revenue.', 'Calculate the average monetary value per RFM segment and compare it with the average order value (AOV) of the entire dataset.', 'Evaluate the effectiveness of the marketplace channel based on total orders and revenue.', 'Analyze seasonal patterns in order volumes by month and day of the week.', 'Compare revenue from B2B orders to revenue from Marketplace orders.'])\n",
      "dict_keys(['How many total orders are recorded?', 'What is the total gross revenue?', 'How many unique products have been sold?', 'Count the number of orders from the most recent date.', 'Find the minimum and maximum gross revenue per order.', 'How many orders were placed in the last week of 2023?', 'What is the total number of B2B orders?', 'What is the total number of marketplace orders?', 'What is the average order value (AOV)?', 'What is the earliest date in the dataset?'])\n"
     ]
    }
   ],
   "source": [
    "answers_level0 = {}\n",
    "answers_level1 = {}\n",
    "answers_level2 = {}\n",
    "answers_level3 = {}\n",
    "answers_level4 = {}\n",
    "\n",
    "# Put each relative question into each dictionary as keys\n",
    "def create_question_dict(questions_list, answers_dict):\n",
    "    for question in questions_list:\n",
    "        answers_dict[question] = None\n",
    "    return print(answers_dict.keys())\n",
    "create_question_dict(level_0_questions, answers_level0)\n",
    "create_question_dict(level_1_questions, answers_level1)\n",
    "create_question_dict(level_2_questions, answers_level2)\n",
    "create_question_dict(level_3_questions, answers_level3)\n",
    "create_question_dict(level_4_questions, answers_level4)\n",
    "\n",
    "# access first question in level 1 with loc\n",
    "print(answers_level1.keys())\n"
   ]
  },
  {
   "cell_type": "markdown",
   "metadata": {},
   "source": [
    "# Answers Level\n"
   ]
  },
  {
   "cell_type": "code",
   "execution_count": 55,
   "metadata": {},
   "outputs": [
    {
     "name": "stdout",
     "output_type": "stream",
     "text": [
      "<class 'pandas.core.frame.DataFrame'>\n",
      "RangeIndex: 25019 entries, 0 to 25018\n",
      "Data columns (total 24 columns):\n",
      " #   Column                         Non-Null Count  Dtype  \n",
      "---  ------                         --------------  -----  \n",
      " 0   date                           25019 non-null  object \n",
      " 1   order_id                       25019 non-null  int64  \n",
      " 2   postcode                       24997 non-null  object \n",
      " 3   day_of_week                    25019 non-null  object \n",
      " 4   tot_orders                     25019 non-null  int64  \n",
      " 5   tot_gross_revenue              25019 non-null  float64\n",
      " 6   tot_cogs                       24905 non-null  float64\n",
      " 7   tot_orders_marketplace         25019 non-null  int64  \n",
      " 8   tot_orders_int                 25019 non-null  int64  \n",
      " 9   tot_orders_b2b                 25019 non-null  int64  \n",
      " 10  tot_gross_revenue_mrktpl       25019 non-null  float64\n",
      " 11  tot_gross_revenue_int          25019 non-null  float64\n",
      " 12  tot_gross_revenue_b2b          25019 non-null  float64\n",
      " 13  AOV                            25019 non-null  float64\n",
      " 14  lag_weekday_tot_orders         25008 non-null  float64\n",
      " 15  lag_weekday_tot_gross_revenue  25008 non-null  float64\n",
      " 16  lag_weekday_AOV                25008 non-null  float64\n",
      " 17  customer_id                    25019 non-null  int64  \n",
      " 18  product_name                   25009 non-null  object \n",
      " 19  product_id                     25009 non-null  float64\n",
      " 20  main_category                  25009 non-null  object \n",
      " 21  sub_category                   25009 non-null  object \n",
      " 22  month                          25019 non-null  int32  \n",
      " 23  year                           25019 non-null  int32  \n",
      "dtypes: float64(10), int32(2), int64(6), object(6)\n",
      "memory usage: 4.4+ MB\n",
      "None\n",
      "<class 'pandas.core.frame.DataFrame'>\n",
      "RangeIndex: 9781 entries, 0 to 9780\n",
      "Data columns (total 9 columns):\n",
      " #   Column           Non-Null Count  Dtype  \n",
      "---  ------           --------------  -----  \n",
      " 0   customer_id      9781 non-null   int64  \n",
      " 1   recency          9781 non-null   int64  \n",
      " 2   frequency        9781 non-null   float64\n",
      " 3   monetary         9781 non-null   float64\n",
      " 4   recency_score    9781 non-null   int64  \n",
      " 5   frequency_score  9781 non-null   int64  \n",
      " 6   monetary_score   9781 non-null   int64  \n",
      " 7   RFM_Score        9781 non-null   int64  \n",
      " 8   RFM_Segment      9781 non-null   object \n",
      "dtypes: float64(2), int64(6), object(1)\n",
      "memory usage: 687.9+ KB\n",
      "None\n"
     ]
    }
   ],
   "source": [
    "print(hourly_orders_vanilla.info())\n",
    "print(rfm.info())"
   ]
  },
  {
   "cell_type": "code",
   "execution_count": 56,
   "metadata": {},
   "outputs": [],
   "source": [
    "# Level 0 Answers\n",
    "# Very Simple Questions Python Code\n",
    "answers_level0[0] = len(hourly_orders_vanilla)\n",
    "answers_level0[1] = hourly_orders_vanilla['year'].unique()\n",
    "answers_level0[2] = hourly_orders_vanilla['tot_gross_revenue'].max()\n",
    "answers_level0[3] = 1 if (hourly_orders_vanilla['month'] == 1).any() else 0\n",
    "answers_level0[4] = hourly_orders_vanilla[hourly_orders_vanilla['date'] == hourly_orders_vanilla['date'].max()].shape[0]\n",
    "answers_level0[5] = hourly_orders_vanilla['main_category'].iloc[0]\n",
    "answers_level0[6] = 1 if '12345' in hourly_orders_vanilla['postcode'].values else 0\n",
    "answers_level0[7] = hourly_orders_vanilla['customer_id'].iloc[0]\n",
    "answers_level0[8] = 1 if (hourly_orders_vanilla['tot_orders_b2b'] > 0).any() else 0\n",
    "answers_level0[9] = 1 if (hourly_orders_vanilla['tot_orders_int'] > 0).any() else 0\n"
   ]
  },
  {
   "cell_type": "code",
   "execution_count": 57,
   "metadata": {},
   "outputs": [
    {
     "name": "stdout",
     "output_type": "stream",
     "text": [
      "{'How many total orders are recorded?': None, 'What is the total gross revenue?': None, 'How many unique products have been sold?': None, 'Count the number of orders from the most recent date.': None, 'Find the minimum and maximum gross revenue per order.': None, 'How many orders were placed in the last week of 2023?': None, 'What is the total number of B2B orders?': None, 'What is the total number of marketplace orders?': None, 'What is the average order value (AOV)?': None, 'What is the earliest date in the dataset?': None, 0: 25019, 1: 11979850.09, 2: 869, 3: 79, 4: min        0.00\n",
      "max    11353.18\n",
      "Name: tot_gross_revenue, dtype: float64, 5: 508, 6: 67, 7: 5503, 8: 478.8300927295256, 9: datetime.date(2023, 1, 1)}\n"
     ]
    }
   ],
   "source": [
    "# Level 1 Answers - Adjusted\n",
    "answers_level1[0] = hourly_orders_vanilla['order_id'].count()\n",
    "answers_level1[1] = hourly_orders_vanilla['tot_gross_revenue'].sum()\n",
    "answers_level1[2] = hourly_orders_vanilla['product_id'].nunique()\n",
    "answers_level1[3] = hourly_orders_vanilla[hourly_orders_vanilla['date'] == max(hourly_orders_vanilla['date'])]['order_id'].count()\n",
    "answers_level1[4] = hourly_orders_vanilla['tot_gross_revenue'].agg(['min', 'max'])\n",
    "answers_level1[5] = hourly_orders_vanilla[hourly_orders_vanilla['date'] >= max(hourly_orders_vanilla['date']) - pd.Timedelta(days=7)]['order_id'].count()\n",
    "answers_level1[6] = hourly_orders_vanilla['tot_orders_b2b'].sum()\n",
    "answers_level1[7] = hourly_orders_vanilla['tot_orders_marketplace'].sum()\n",
    "answers_level1[8] = hourly_orders_vanilla['AOV'].mean()\n",
    "answers_level1[9] = hourly_orders_vanilla['date'].min()\n",
    "\n",
    "print(answers_level1)\n"
   ]
  },
  {
   "cell_type": "code",
   "execution_count": 58,
   "metadata": {},
   "outputs": [
    {
     "name": "stdout",
     "output_type": "stream",
     "text": [
      "Haltères néoprène musculation et fitness (lot de 2)\n",
      "{'What is the most recent date in the dataset?': None, 'How many unique customers are there?': None, 'What is the average number of orders per customer?': None, 'What are the top 5 most common postcodes for orders?': None, 'List the top 5 most frequent product names by order count.': None, 'What is the average total gross revenue from internal orders?': None, 'How many B2B orders are there?': None, 'Which day of the week has the highest average orders?': None, 'What is the total cost of goods sold (COGS)?': None, 'What is the total revenue for B2B orders?': None, 0: datetime.date(2023, 12, 30), 1: 9781, 2: 2.557918413250179, 3: postcode\n",
      "5612    1927\n",
      "5610     325\n",
      "1700     297\n",
      "1870     223\n",
      "1400     214\n",
      "Name: count, dtype: int64, 4: product_name\n",
      "Haltères néoprène musculation et fitness (lot de 2)           1562\n",
      "Haltère hexagonal \"Hex Dumbbell\" en caoutchouc                1233\n",
      "Bande de résistance élastique en latex                         764\n",
      "Coupelles plots de marquage pour entrainements (lot de 10)     387\n",
      "Kettlebell en acier avec revêtement en poudre                  382\n",
      "Name: count, dtype: int64, 5: 459.74766617370796, 6: 67, 7: 'Friday', 8: 3944335.8599999994, 9: 'Haltères néoprène musculation et fitness (lot de 2)'}\n"
     ]
    }
   ],
   "source": [
    "# Level 2 Answers - Indexed by Number\n",
    "answers_level2[0] = hourly_orders_vanilla['date'].max()\n",
    "answers_level2[1] = hourly_orders_vanilla['customer_id'].nunique()\n",
    "answers_level2[2] = (hourly_orders_vanilla['tot_orders'].sum() / hourly_orders_vanilla['customer_id'].nunique())\n",
    "answers_level2[3] = hourly_orders_vanilla['postcode'].value_counts().nlargest(5)\n",
    "answers_level2[4] = hourly_orders_vanilla['product_name'].value_counts().nlargest(5)\n",
    "answers_level2[5] = hourly_orders_vanilla['tot_gross_revenue_int'].mean()\n",
    "answers_level2[6] = hourly_orders_vanilla['tot_orders_b2b'].sum()\n",
    "answers_level2[7] = hourly_orders_vanilla.groupby('day_of_week')['tot_orders'].mean().idxmax()\n",
    "answers_level2[8] = hourly_orders_vanilla['tot_cogs'].sum()\n",
    "answers_level2[9] = hourly_orders_vanilla['product_name'].value_counts().idxmax()\n",
    "print(answers_level2[9])\n",
    "\n",
    "print(answers_level2)"
   ]
  },
  {
   "cell_type": "code",
   "execution_count": 59,
   "metadata": {},
   "outputs": [
    {
     "name": "stdout",
     "output_type": "stream",
     "text": [
      "Haltères néoprène musculation et fitness (lot de 2)\n",
      "{\"How many products are in the 'Sports' main category?\": None, 'What is the average revenue per month?': None, 'Which customer segment has the highest average order value?': None, 'How many orders are above the average order value?': None, 'What is the most common RFM segment?': None, 'What percentage of total orders are from internal website?': None, 'Which product category has the highest total revenue?': None, 'Retrieve the total number of orders for each month.': None, 'What is the total number of unique products sold each month?': None, 'What is my best selling product?': None, 0: 0, 1: month\n",
      "1     417.134682\n",
      "2     440.837668\n",
      "3     832.121343\n",
      "4     670.188781\n",
      "5     414.676905\n",
      "6     438.964879\n",
      "7     573.726259\n",
      "8     624.319909\n",
      "9     417.399455\n",
      "10    348.398141\n",
      "11    438.578277\n",
      "12    344.510246\n",
      "Name: tot_gross_revenue, dtype: float64, 2: 'Others', 3: 4789, 4: 'Others', 5: 77.73691994084496, 6: 'Fitness', 7: month\n",
      "1     1604\n",
      "2     1398\n",
      "3     1459\n",
      "4     1526\n",
      "5     1761\n",
      "6     2111\n",
      "7     2058\n",
      "8     2200\n",
      "9     2277\n",
      "10    2765\n",
      "11    3338\n",
      "12    2522\n",
      "Name: order_id, dtype: int64, 8: month\n",
      "1     252\n",
      "2     274\n",
      "3     257\n",
      "4     296\n",
      "5     321\n",
      "6     363\n",
      "7     373\n",
      "8     413\n",
      "9     417\n",
      "10    464\n",
      "11    493\n",
      "12    467\n",
      "Name: product_id, dtype: int64, 9: 'Haltères néoprène musculation et fitness (lot de 2)'}\n"
     ]
    }
   ],
   "source": [
    "# Level 3 Answers - Indexed by Number\n",
    "answers_level3[0] = hourly_orders_vanilla[hourly_orders_vanilla['main_category'] == 'Sports']['product_id'].nunique()\n",
    "answers_level3[1] = hourly_orders_vanilla.groupby('month')['tot_gross_revenue'].mean()\n",
    "answers_level3[2] = hourly_orders_vanilla.merge(rfm, on='customer_id').groupby('RFM_Segment')['tot_gross_revenue'].mean().idxmax()\n",
    "answers_level3[3] = (hourly_orders_vanilla[hourly_orders_vanilla['tot_gross_revenue'] > hourly_orders_vanilla['tot_gross_revenue'].mean()]['order_id'].count())\n",
    "answers_level3[4] = rfm.groupby('RFM_Segment')['customer_id'].count().idxmax()\n",
    "answers_level3[5] = (hourly_orders_vanilla[\"tot_orders_int\"].sum() / hourly_orders_vanilla['order_id'].count()) * 100\n",
    "\n",
    "answers_level3[6] = hourly_orders_vanilla.groupby('main_category')['tot_gross_revenue'].sum().idxmax()\n",
    "answers_level3[7] = hourly_orders_vanilla.groupby('month')['order_id'].count()\n",
    "answers_level3[8] = hourly_orders_vanilla.groupby('month')['product_id'].nunique()\n",
    "answers_level3[9] = hourly_orders_vanilla['product_name'].value_counts().idxmax()\n",
    "print(answers_level3[9])\n",
    "\n",
    "\n",
    "print(answers_level3)"
   ]
  },
  {
   "cell_type": "code",
   "execution_count": 60,
   "metadata": {},
   "outputs": [
    {
     "name": "stderr",
     "output_type": "stream",
     "text": [
      "/var/folders/y5/f3yrmbzn2jq1rcxqy582qldm0000gn/T/ipykernel_59470/2208853958.py:26: FutureWarning: The behavior of Series.idxmax with all-NA values, or any-NA and skipna=False, is deprecated. In a future version this will raise ValueError\n",
      "  answers_level4[3] = year_over_year_growth.idxmax()\n"
     ]
    }
   ],
   "source": [
    "# Q1: Calculate total orders, total revenue, and average order value for each month.\n",
    "level_4_answers_q1 = hourly_orders_vanilla.groupby(['year', 'month']).agg(\n",
    "    total_orders=pd.NamedAgg(column='order_id', aggfunc='count'),\n",
    "    total_revenue=pd.NamedAgg(column='tot_gross_revenue', aggfunc='sum'),\n",
    "    average_order_value=pd.NamedAgg(column='tot_gross_revenue', aggfunc='mean')\n",
    ").reset_index()\n",
    "\n",
    "answers_level4[0] = level_4_answers_q1\n",
    "\n",
    "# Q2: Compare the total number of orders and total revenue per month to the previous month.\n",
    "hourly_orders_grouped = hourly_orders_vanilla.groupby(['year', 'month']).agg(\n",
    "    total_orders=('order_id', 'count'),\n",
    "    total_revenue=('tot_gross_revenue', 'sum')\n",
    ").reset_index()\n",
    "hourly_orders_grouped['prev_month_orders'] = hourly_orders_grouped['total_orders'].shift(1)\n",
    "hourly_orders_grouped['prev_month_revenue'] = hourly_orders_grouped['total_revenue'].shift(1)\n",
    "hourly_orders_grouped['order_diff'] = hourly_orders_grouped['total_orders'] - hourly_orders_grouped['prev_month_orders']\n",
    "hourly_orders_grouped['revenue_diff'] = hourly_orders_grouped['total_revenue'] - hourly_orders_grouped['prev_month_revenue']\n",
    "answers_level4[1] = hourly_orders_grouped\n",
    "# Q3: Examine the monthly trend of average COGS.\n",
    "level_4_answers_q3 = hourly_orders_vanilla.groupby(['year', 'month'])['tot_cogs'].mean().reset_index()\n",
    "answers_level4[2] = level_4_answers_q3\n",
    "# Q4: Identify the postcode with the greatest increase in orders year-over-year.\n",
    "yearly_postcode_orders = hourly_orders_vanilla.groupby(['year', 'postcode']).size().unstack(fill_value=0)\n",
    "year_over_year_growth = yearly_postcode_orders.pct_change().max(axis=1)\n",
    "answers_level4[3] = year_over_year_growth.idxmax()\n",
    "# Q5: What is the average monthly revenue growth over the year?\n",
    "monthly_revenue = hourly_orders_vanilla.groupby(['year', 'month'])['tot_gross_revenue'].sum()\n",
    "monthly_revenue_growth = monthly_revenue.pct_change().dropna().mean()\n",
    "answers_level4[4] = monthly_revenue_growth\n",
    "# Q6: Identify the customer with the highest total revenue.\n",
    "top_customer_revenue = hourly_orders_vanilla.groupby('customer_id')['tot_gross_revenue'].sum().idxmax()\n",
    "answers_level4[5] = top_customer_revenue\n",
    "# Q7: Calculate the average monetary value per RFM segment and compare it with the average order value (AOV) of the entire dataset.\n",
    "avg_monetary_per_segment = rfm.groupby('RFM_Segment')['monetary'].mean()\n",
    "overall_AOV = hourly_orders_vanilla['tot_gross_revenue'].mean()\n",
    "answers_level4[6] = avg_monetary_per_segment\n",
    "# Q8: Evaluate the effectiveness of the marketplace channel based on total orders and revenue.\n",
    "marketplace_effectiveness = hourly_orders_vanilla.agg(\n",
    "    marketplace_total_orders=('tot_orders_marketplace', 'sum'),\n",
    "    marketplace_total_revenue=('tot_gross_revenue_mrktpl', 'sum')\n",
    ")\n",
    "answers_level4[7] = marketplace_effectiveness\n",
    "# Q9: Analyze seasonal patterns in order volumes by month and day of the week.\n",
    "seasonal_patterns = hourly_orders_vanilla.groupby(['month', 'day_of_week'])['order_id'].count().unstack()\n",
    "answers_level4[8] = seasonal_patterns\n",
    "# Q10: Compare revenue from B2B orders to revenue from Marketplace orders.\n",
    "revenue_comparison = hourly_orders_vanilla[['tot_gross_revenue_b2b', 'tot_gross_revenue_mrktpl']].sum()\n",
    "answers_level4[9] = revenue_comparison"
   ]
  },
  {
   "cell_type": "code",
   "execution_count": 62,
   "metadata": {},
   "outputs": [],
   "source": [
    "# Store answers in a dataframe and export to csv\n",
    "answers_level0_df = pd.DataFrame(answers_level0.items(), columns=['Question', 'Answer'])\n",
    "answers_level1_df = pd.DataFrame(answers_level1.items(), columns=['Question', 'Answer'])\n",
    "answers_level2_df = pd.DataFrame(answers_level2.items(), columns=['Question', 'Answer'])\n",
    "answers_level3_df = pd.DataFrame(answers_level3.items(), columns=['Question', 'Answer'])\n",
    "answers_level4_df = pd.DataFrame(answers_level4.items(), columns=['Question', 'Answer'])\n",
    "\n",
    "answers_level0_df.to_csv(os.path.join(target_dir, 'answers_level0.csv'), index=False)\n",
    "answers_level1_df.to_csv(os.path.join(target_dir, 'answers_level1.csv'), index=False)\n",
    "answers_level2_df.to_csv(os.path.join(target_dir, 'answers_level2.csv'), index=False)\n",
    "answers_level3_df.to_csv(os.path.join(target_dir, 'answers_level3.csv'), index=False)\n",
    "answers_level4_df.to_csv(os.path.join(target_dir, 'answers_level4.csv'), index=False)\n",
    "\n"
   ]
  },
  {
   "cell_type": "markdown",
   "metadata": {},
   "source": [
    "# Evaluation Viz"
   ]
  },
  {
   "cell_type": "code",
   "execution_count": 72,
   "metadata": {},
   "outputs": [
    {
     "data": {
      "application/vnd.plotly.v1+json": {
       "config": {
        "plotlyServerURL": "https://plot.ly"
       },
       "data": [
        {
         "alignmentgroup": "True",
         "hovertemplate": "Question Level=%{x}<br>Average RAG Score=%{text}<extra></extra>",
         "legendgroup": "",
         "marker": {
          "color": "#636efa",
          "pattern": {
           "shape": ""
          }
         },
         "name": "",
         "offsetgroup": "",
         "orientation": "v",
         "showlegend": false,
         "text": [
          95,
          85,
          80,
          80,
          50
         ],
         "textposition": "outside",
         "texttemplate": "%{y:.0f}%",
         "type": "bar",
         "x": [
          0,
          1,
          2,
          3,
          4
         ],
         "xaxis": "x",
         "y": [
          95,
          85,
          80,
          80,
          50
         ],
         "yaxis": "y"
        }
       ],
       "layout": {
        "barmode": "relative",
        "legend": {
         "tracegroupgap": 0
        },
        "template": {
         "data": {
          "bar": [
           {
            "error_x": {
             "color": "#2a3f5f"
            },
            "error_y": {
             "color": "#2a3f5f"
            },
            "marker": {
             "line": {
              "color": "#E5ECF6",
              "width": 0.5
             },
             "pattern": {
              "fillmode": "overlay",
              "size": 10,
              "solidity": 0.2
             }
            },
            "type": "bar"
           }
          ],
          "barpolar": [
           {
            "marker": {
             "line": {
              "color": "#E5ECF6",
              "width": 0.5
             },
             "pattern": {
              "fillmode": "overlay",
              "size": 10,
              "solidity": 0.2
             }
            },
            "type": "barpolar"
           }
          ],
          "carpet": [
           {
            "aaxis": {
             "endlinecolor": "#2a3f5f",
             "gridcolor": "white",
             "linecolor": "white",
             "minorgridcolor": "white",
             "startlinecolor": "#2a3f5f"
            },
            "baxis": {
             "endlinecolor": "#2a3f5f",
             "gridcolor": "white",
             "linecolor": "white",
             "minorgridcolor": "white",
             "startlinecolor": "#2a3f5f"
            },
            "type": "carpet"
           }
          ],
          "choropleth": [
           {
            "colorbar": {
             "outlinewidth": 0,
             "ticks": ""
            },
            "type": "choropleth"
           }
          ],
          "contour": [
           {
            "colorbar": {
             "outlinewidth": 0,
             "ticks": ""
            },
            "colorscale": [
             [
              0,
              "#0d0887"
             ],
             [
              0.1111111111111111,
              "#46039f"
             ],
             [
              0.2222222222222222,
              "#7201a8"
             ],
             [
              0.3333333333333333,
              "#9c179e"
             ],
             [
              0.4444444444444444,
              "#bd3786"
             ],
             [
              0.5555555555555556,
              "#d8576b"
             ],
             [
              0.6666666666666666,
              "#ed7953"
             ],
             [
              0.7777777777777778,
              "#fb9f3a"
             ],
             [
              0.8888888888888888,
              "#fdca26"
             ],
             [
              1,
              "#f0f921"
             ]
            ],
            "type": "contour"
           }
          ],
          "contourcarpet": [
           {
            "colorbar": {
             "outlinewidth": 0,
             "ticks": ""
            },
            "type": "contourcarpet"
           }
          ],
          "heatmap": [
           {
            "colorbar": {
             "outlinewidth": 0,
             "ticks": ""
            },
            "colorscale": [
             [
              0,
              "#0d0887"
             ],
             [
              0.1111111111111111,
              "#46039f"
             ],
             [
              0.2222222222222222,
              "#7201a8"
             ],
             [
              0.3333333333333333,
              "#9c179e"
             ],
             [
              0.4444444444444444,
              "#bd3786"
             ],
             [
              0.5555555555555556,
              "#d8576b"
             ],
             [
              0.6666666666666666,
              "#ed7953"
             ],
             [
              0.7777777777777778,
              "#fb9f3a"
             ],
             [
              0.8888888888888888,
              "#fdca26"
             ],
             [
              1,
              "#f0f921"
             ]
            ],
            "type": "heatmap"
           }
          ],
          "heatmapgl": [
           {
            "colorbar": {
             "outlinewidth": 0,
             "ticks": ""
            },
            "colorscale": [
             [
              0,
              "#0d0887"
             ],
             [
              0.1111111111111111,
              "#46039f"
             ],
             [
              0.2222222222222222,
              "#7201a8"
             ],
             [
              0.3333333333333333,
              "#9c179e"
             ],
             [
              0.4444444444444444,
              "#bd3786"
             ],
             [
              0.5555555555555556,
              "#d8576b"
             ],
             [
              0.6666666666666666,
              "#ed7953"
             ],
             [
              0.7777777777777778,
              "#fb9f3a"
             ],
             [
              0.8888888888888888,
              "#fdca26"
             ],
             [
              1,
              "#f0f921"
             ]
            ],
            "type": "heatmapgl"
           }
          ],
          "histogram": [
           {
            "marker": {
             "pattern": {
              "fillmode": "overlay",
              "size": 10,
              "solidity": 0.2
             }
            },
            "type": "histogram"
           }
          ],
          "histogram2d": [
           {
            "colorbar": {
             "outlinewidth": 0,
             "ticks": ""
            },
            "colorscale": [
             [
              0,
              "#0d0887"
             ],
             [
              0.1111111111111111,
              "#46039f"
             ],
             [
              0.2222222222222222,
              "#7201a8"
             ],
             [
              0.3333333333333333,
              "#9c179e"
             ],
             [
              0.4444444444444444,
              "#bd3786"
             ],
             [
              0.5555555555555556,
              "#d8576b"
             ],
             [
              0.6666666666666666,
              "#ed7953"
             ],
             [
              0.7777777777777778,
              "#fb9f3a"
             ],
             [
              0.8888888888888888,
              "#fdca26"
             ],
             [
              1,
              "#f0f921"
             ]
            ],
            "type": "histogram2d"
           }
          ],
          "histogram2dcontour": [
           {
            "colorbar": {
             "outlinewidth": 0,
             "ticks": ""
            },
            "colorscale": [
             [
              0,
              "#0d0887"
             ],
             [
              0.1111111111111111,
              "#46039f"
             ],
             [
              0.2222222222222222,
              "#7201a8"
             ],
             [
              0.3333333333333333,
              "#9c179e"
             ],
             [
              0.4444444444444444,
              "#bd3786"
             ],
             [
              0.5555555555555556,
              "#d8576b"
             ],
             [
              0.6666666666666666,
              "#ed7953"
             ],
             [
              0.7777777777777778,
              "#fb9f3a"
             ],
             [
              0.8888888888888888,
              "#fdca26"
             ],
             [
              1,
              "#f0f921"
             ]
            ],
            "type": "histogram2dcontour"
           }
          ],
          "mesh3d": [
           {
            "colorbar": {
             "outlinewidth": 0,
             "ticks": ""
            },
            "type": "mesh3d"
           }
          ],
          "parcoords": [
           {
            "line": {
             "colorbar": {
              "outlinewidth": 0,
              "ticks": ""
             }
            },
            "type": "parcoords"
           }
          ],
          "pie": [
           {
            "automargin": true,
            "type": "pie"
           }
          ],
          "scatter": [
           {
            "fillpattern": {
             "fillmode": "overlay",
             "size": 10,
             "solidity": 0.2
            },
            "type": "scatter"
           }
          ],
          "scatter3d": [
           {
            "line": {
             "colorbar": {
              "outlinewidth": 0,
              "ticks": ""
             }
            },
            "marker": {
             "colorbar": {
              "outlinewidth": 0,
              "ticks": ""
             }
            },
            "type": "scatter3d"
           }
          ],
          "scattercarpet": [
           {
            "marker": {
             "colorbar": {
              "outlinewidth": 0,
              "ticks": ""
             }
            },
            "type": "scattercarpet"
           }
          ],
          "scattergeo": [
           {
            "marker": {
             "colorbar": {
              "outlinewidth": 0,
              "ticks": ""
             }
            },
            "type": "scattergeo"
           }
          ],
          "scattergl": [
           {
            "marker": {
             "colorbar": {
              "outlinewidth": 0,
              "ticks": ""
             }
            },
            "type": "scattergl"
           }
          ],
          "scattermapbox": [
           {
            "marker": {
             "colorbar": {
              "outlinewidth": 0,
              "ticks": ""
             }
            },
            "type": "scattermapbox"
           }
          ],
          "scatterpolar": [
           {
            "marker": {
             "colorbar": {
              "outlinewidth": 0,
              "ticks": ""
             }
            },
            "type": "scatterpolar"
           }
          ],
          "scatterpolargl": [
           {
            "marker": {
             "colorbar": {
              "outlinewidth": 0,
              "ticks": ""
             }
            },
            "type": "scatterpolargl"
           }
          ],
          "scatterternary": [
           {
            "marker": {
             "colorbar": {
              "outlinewidth": 0,
              "ticks": ""
             }
            },
            "type": "scatterternary"
           }
          ],
          "surface": [
           {
            "colorbar": {
             "outlinewidth": 0,
             "ticks": ""
            },
            "colorscale": [
             [
              0,
              "#0d0887"
             ],
             [
              0.1111111111111111,
              "#46039f"
             ],
             [
              0.2222222222222222,
              "#7201a8"
             ],
             [
              0.3333333333333333,
              "#9c179e"
             ],
             [
              0.4444444444444444,
              "#bd3786"
             ],
             [
              0.5555555555555556,
              "#d8576b"
             ],
             [
              0.6666666666666666,
              "#ed7953"
             ],
             [
              0.7777777777777778,
              "#fb9f3a"
             ],
             [
              0.8888888888888888,
              "#fdca26"
             ],
             [
              1,
              "#f0f921"
             ]
            ],
            "type": "surface"
           }
          ],
          "table": [
           {
            "cells": {
             "fill": {
              "color": "#EBF0F8"
             },
             "line": {
              "color": "white"
             }
            },
            "header": {
             "fill": {
              "color": "#C8D4E3"
             },
             "line": {
              "color": "white"
             }
            },
            "type": "table"
           }
          ]
         },
         "layout": {
          "annotationdefaults": {
           "arrowcolor": "#2a3f5f",
           "arrowhead": 0,
           "arrowwidth": 1
          },
          "autotypenumbers": "strict",
          "coloraxis": {
           "colorbar": {
            "outlinewidth": 0,
            "ticks": ""
           }
          },
          "colorscale": {
           "diverging": [
            [
             0,
             "#8e0152"
            ],
            [
             0.1,
             "#c51b7d"
            ],
            [
             0.2,
             "#de77ae"
            ],
            [
             0.3,
             "#f1b6da"
            ],
            [
             0.4,
             "#fde0ef"
            ],
            [
             0.5,
             "#f7f7f7"
            ],
            [
             0.6,
             "#e6f5d0"
            ],
            [
             0.7,
             "#b8e186"
            ],
            [
             0.8,
             "#7fbc41"
            ],
            [
             0.9,
             "#4d9221"
            ],
            [
             1,
             "#276419"
            ]
           ],
           "sequential": [
            [
             0,
             "#0d0887"
            ],
            [
             0.1111111111111111,
             "#46039f"
            ],
            [
             0.2222222222222222,
             "#7201a8"
            ],
            [
             0.3333333333333333,
             "#9c179e"
            ],
            [
             0.4444444444444444,
             "#bd3786"
            ],
            [
             0.5555555555555556,
             "#d8576b"
            ],
            [
             0.6666666666666666,
             "#ed7953"
            ],
            [
             0.7777777777777778,
             "#fb9f3a"
            ],
            [
             0.8888888888888888,
             "#fdca26"
            ],
            [
             1,
             "#f0f921"
            ]
           ],
           "sequentialminus": [
            [
             0,
             "#0d0887"
            ],
            [
             0.1111111111111111,
             "#46039f"
            ],
            [
             0.2222222222222222,
             "#7201a8"
            ],
            [
             0.3333333333333333,
             "#9c179e"
            ],
            [
             0.4444444444444444,
             "#bd3786"
            ],
            [
             0.5555555555555556,
             "#d8576b"
            ],
            [
             0.6666666666666666,
             "#ed7953"
            ],
            [
             0.7777777777777778,
             "#fb9f3a"
            ],
            [
             0.8888888888888888,
             "#fdca26"
            ],
            [
             1,
             "#f0f921"
            ]
           ]
          },
          "colorway": [
           "#636efa",
           "#EF553B",
           "#00cc96",
           "#ab63fa",
           "#FFA15A",
           "#19d3f3",
           "#FF6692",
           "#B6E880",
           "#FF97FF",
           "#FECB52"
          ],
          "font": {
           "color": "#2a3f5f"
          },
          "geo": {
           "bgcolor": "white",
           "lakecolor": "white",
           "landcolor": "#E5ECF6",
           "showlakes": true,
           "showland": true,
           "subunitcolor": "white"
          },
          "hoverlabel": {
           "align": "left"
          },
          "hovermode": "closest",
          "mapbox": {
           "style": "light"
          },
          "paper_bgcolor": "white",
          "plot_bgcolor": "#E5ECF6",
          "polar": {
           "angularaxis": {
            "gridcolor": "white",
            "linecolor": "white",
            "ticks": ""
           },
           "bgcolor": "#E5ECF6",
           "radialaxis": {
            "gridcolor": "white",
            "linecolor": "white",
            "ticks": ""
           }
          },
          "scene": {
           "xaxis": {
            "backgroundcolor": "#E5ECF6",
            "gridcolor": "white",
            "gridwidth": 2,
            "linecolor": "white",
            "showbackground": true,
            "ticks": "",
            "zerolinecolor": "white"
           },
           "yaxis": {
            "backgroundcolor": "#E5ECF6",
            "gridcolor": "white",
            "gridwidth": 2,
            "linecolor": "white",
            "showbackground": true,
            "ticks": "",
            "zerolinecolor": "white"
           },
           "zaxis": {
            "backgroundcolor": "#E5ECF6",
            "gridcolor": "white",
            "gridwidth": 2,
            "linecolor": "white",
            "showbackground": true,
            "ticks": "",
            "zerolinecolor": "white"
           }
          },
          "shapedefaults": {
           "line": {
            "color": "#2a3f5f"
           }
          },
          "ternary": {
           "aaxis": {
            "gridcolor": "white",
            "linecolor": "white",
            "ticks": ""
           },
           "baxis": {
            "gridcolor": "white",
            "linecolor": "white",
            "ticks": ""
           },
           "bgcolor": "#E5ECF6",
           "caxis": {
            "gridcolor": "white",
            "linecolor": "white",
            "ticks": ""
           }
          },
          "title": {
           "x": 0.05
          },
          "xaxis": {
           "automargin": true,
           "gridcolor": "white",
           "linecolor": "white",
           "ticks": "",
           "title": {
            "standoff": 15
           },
           "zerolinecolor": "white",
           "zerolinewidth": 2
          },
          "yaxis": {
           "automargin": true,
           "gridcolor": "white",
           "linecolor": "white",
           "ticks": "",
           "title": {
            "standoff": 15
           },
           "zerolinecolor": "white",
           "zerolinewidth": 2
          }
         }
        },
        "title": {
         "text": "Average RAG Score per Level"
        },
        "xaxis": {
         "anchor": "y",
         "domain": [
          0,
          1
         ],
         "title": {
          "text": "Question Level"
         },
         "type": "category"
        },
        "yaxis": {
         "anchor": "x",
         "domain": [
          0,
          1
         ],
         "title": {
          "text": "Average RAG Score"
         }
        }
       }
      }
     },
     "metadata": {},
     "output_type": "display_data"
    }
   ],
   "source": [
    "import pandas as pd\n",
    "import plotly.express as px\n",
    "\n",
    "# Data from your table\n",
    "data = {\n",
    "    'Level': [0]*10 + [1]*10 + [2]*10 + [3]*10 + [4]*10,\n",
    "    'RAG System': [\n",
    "        1, 1, 1, 1, 0.5, 1, 1, 1, 1, 1,  # Level 0\n",
    "        1, 1, 1, 0, 1, 0.5, 1, 1, 1, 1,  # Level 1\n",
    "        1, 1, 0, 1, 1, 1, 1, 0, 1, 1,   # Level 2\n",
    "        1, 0, 1, 0, 1, 1, 1, 1, 1, 1,   # Level 3\n",
    "        1, 0, 0.5, 0, 0, 1, 0, 1, 0.5, 1  # Level 4\n",
    "    ]\n",
    "}\n",
    "\n",
    "# Convert dictionary to DataFrame\n",
    "df = pd.DataFrame(data)\n",
    "\n",
    "# Group by Level and calculate the mean of RAG System\n",
    "rag_summary = df.groupby('Level')['RAG System'].mean().reset_index()\n",
    "rag_summary['Average RAG Score'] = rag_summary['RAG System'] * 100  # Renaming for clarity in plotting\n",
    "\n",
    "# Creating the bar chart\n",
    "fig = px.bar(rag_summary, x='Level', y='Average RAG Score',\n",
    "             text='Average RAG Score', title='Average RAG Score per Level',\n",
    "             labels={'Average RAG Score': 'Average RAG Score', 'Level': 'Question Level'})\n",
    "\n",
    "# Ensure all levels are displayed (0 to 4)\n",
    "fig.update_xaxes(type='category')\n",
    "\n",
    "# Adding percentage annotations\n",
    "fig.update_traces(texttemplate='%{y:.0f}%', textposition='outside')  # Adjusted for correct formatting\n",
    "\n",
    "# Show the graph\n",
    "fig.show()\n"
   ]
  },
  {
   "cell_type": "code",
   "execution_count": 79,
   "metadata": {},
   "outputs": [
    {
     "data": {
      "application/vnd.plotly.v1+json": {
       "config": {
        "plotlyServerURL": "https://plot.ly"
       },
       "data": [
        {
         "hovertemplate": "Question Level=%{x}<br>Cumulative Average RAG Score=%{text}<extra></extra>",
         "legendgroup": "",
         "line": {
          "color": "#636efa",
          "dash": "solid"
         },
         "marker": {
          "symbol": "circle"
         },
         "mode": "lines+markers+text",
         "name": "",
         "orientation": "v",
         "showlegend": false,
         "text": [
          0.95,
          0.9,
          0.8666666666666667,
          0.85,
          0.78
         ],
         "textposition": "top right",
         "texttemplate": "%{text:.0%}",
         "type": "scatter",
         "x": [
          0,
          1,
          2,
          3,
          4
         ],
         "xaxis": "x",
         "y": [
          0.95,
          0.9,
          0.8666666666666667,
          0.85,
          0.78
         ],
         "yaxis": "y"
        }
       ],
       "layout": {
        "legend": {
         "tracegroupgap": 0
        },
        "template": {
         "data": {
          "bar": [
           {
            "error_x": {
             "color": "#2a3f5f"
            },
            "error_y": {
             "color": "#2a3f5f"
            },
            "marker": {
             "line": {
              "color": "#E5ECF6",
              "width": 0.5
             },
             "pattern": {
              "fillmode": "overlay",
              "size": 10,
              "solidity": 0.2
             }
            },
            "type": "bar"
           }
          ],
          "barpolar": [
           {
            "marker": {
             "line": {
              "color": "#E5ECF6",
              "width": 0.5
             },
             "pattern": {
              "fillmode": "overlay",
              "size": 10,
              "solidity": 0.2
             }
            },
            "type": "barpolar"
           }
          ],
          "carpet": [
           {
            "aaxis": {
             "endlinecolor": "#2a3f5f",
             "gridcolor": "white",
             "linecolor": "white",
             "minorgridcolor": "white",
             "startlinecolor": "#2a3f5f"
            },
            "baxis": {
             "endlinecolor": "#2a3f5f",
             "gridcolor": "white",
             "linecolor": "white",
             "minorgridcolor": "white",
             "startlinecolor": "#2a3f5f"
            },
            "type": "carpet"
           }
          ],
          "choropleth": [
           {
            "colorbar": {
             "outlinewidth": 0,
             "ticks": ""
            },
            "type": "choropleth"
           }
          ],
          "contour": [
           {
            "colorbar": {
             "outlinewidth": 0,
             "ticks": ""
            },
            "colorscale": [
             [
              0,
              "#0d0887"
             ],
             [
              0.1111111111111111,
              "#46039f"
             ],
             [
              0.2222222222222222,
              "#7201a8"
             ],
             [
              0.3333333333333333,
              "#9c179e"
             ],
             [
              0.4444444444444444,
              "#bd3786"
             ],
             [
              0.5555555555555556,
              "#d8576b"
             ],
             [
              0.6666666666666666,
              "#ed7953"
             ],
             [
              0.7777777777777778,
              "#fb9f3a"
             ],
             [
              0.8888888888888888,
              "#fdca26"
             ],
             [
              1,
              "#f0f921"
             ]
            ],
            "type": "contour"
           }
          ],
          "contourcarpet": [
           {
            "colorbar": {
             "outlinewidth": 0,
             "ticks": ""
            },
            "type": "contourcarpet"
           }
          ],
          "heatmap": [
           {
            "colorbar": {
             "outlinewidth": 0,
             "ticks": ""
            },
            "colorscale": [
             [
              0,
              "#0d0887"
             ],
             [
              0.1111111111111111,
              "#46039f"
             ],
             [
              0.2222222222222222,
              "#7201a8"
             ],
             [
              0.3333333333333333,
              "#9c179e"
             ],
             [
              0.4444444444444444,
              "#bd3786"
             ],
             [
              0.5555555555555556,
              "#d8576b"
             ],
             [
              0.6666666666666666,
              "#ed7953"
             ],
             [
              0.7777777777777778,
              "#fb9f3a"
             ],
             [
              0.8888888888888888,
              "#fdca26"
             ],
             [
              1,
              "#f0f921"
             ]
            ],
            "type": "heatmap"
           }
          ],
          "heatmapgl": [
           {
            "colorbar": {
             "outlinewidth": 0,
             "ticks": ""
            },
            "colorscale": [
             [
              0,
              "#0d0887"
             ],
             [
              0.1111111111111111,
              "#46039f"
             ],
             [
              0.2222222222222222,
              "#7201a8"
             ],
             [
              0.3333333333333333,
              "#9c179e"
             ],
             [
              0.4444444444444444,
              "#bd3786"
             ],
             [
              0.5555555555555556,
              "#d8576b"
             ],
             [
              0.6666666666666666,
              "#ed7953"
             ],
             [
              0.7777777777777778,
              "#fb9f3a"
             ],
             [
              0.8888888888888888,
              "#fdca26"
             ],
             [
              1,
              "#f0f921"
             ]
            ],
            "type": "heatmapgl"
           }
          ],
          "histogram": [
           {
            "marker": {
             "pattern": {
              "fillmode": "overlay",
              "size": 10,
              "solidity": 0.2
             }
            },
            "type": "histogram"
           }
          ],
          "histogram2d": [
           {
            "colorbar": {
             "outlinewidth": 0,
             "ticks": ""
            },
            "colorscale": [
             [
              0,
              "#0d0887"
             ],
             [
              0.1111111111111111,
              "#46039f"
             ],
             [
              0.2222222222222222,
              "#7201a8"
             ],
             [
              0.3333333333333333,
              "#9c179e"
             ],
             [
              0.4444444444444444,
              "#bd3786"
             ],
             [
              0.5555555555555556,
              "#d8576b"
             ],
             [
              0.6666666666666666,
              "#ed7953"
             ],
             [
              0.7777777777777778,
              "#fb9f3a"
             ],
             [
              0.8888888888888888,
              "#fdca26"
             ],
             [
              1,
              "#f0f921"
             ]
            ],
            "type": "histogram2d"
           }
          ],
          "histogram2dcontour": [
           {
            "colorbar": {
             "outlinewidth": 0,
             "ticks": ""
            },
            "colorscale": [
             [
              0,
              "#0d0887"
             ],
             [
              0.1111111111111111,
              "#46039f"
             ],
             [
              0.2222222222222222,
              "#7201a8"
             ],
             [
              0.3333333333333333,
              "#9c179e"
             ],
             [
              0.4444444444444444,
              "#bd3786"
             ],
             [
              0.5555555555555556,
              "#d8576b"
             ],
             [
              0.6666666666666666,
              "#ed7953"
             ],
             [
              0.7777777777777778,
              "#fb9f3a"
             ],
             [
              0.8888888888888888,
              "#fdca26"
             ],
             [
              1,
              "#f0f921"
             ]
            ],
            "type": "histogram2dcontour"
           }
          ],
          "mesh3d": [
           {
            "colorbar": {
             "outlinewidth": 0,
             "ticks": ""
            },
            "type": "mesh3d"
           }
          ],
          "parcoords": [
           {
            "line": {
             "colorbar": {
              "outlinewidth": 0,
              "ticks": ""
             }
            },
            "type": "parcoords"
           }
          ],
          "pie": [
           {
            "automargin": true,
            "type": "pie"
           }
          ],
          "scatter": [
           {
            "fillpattern": {
             "fillmode": "overlay",
             "size": 10,
             "solidity": 0.2
            },
            "type": "scatter"
           }
          ],
          "scatter3d": [
           {
            "line": {
             "colorbar": {
              "outlinewidth": 0,
              "ticks": ""
             }
            },
            "marker": {
             "colorbar": {
              "outlinewidth": 0,
              "ticks": ""
             }
            },
            "type": "scatter3d"
           }
          ],
          "scattercarpet": [
           {
            "marker": {
             "colorbar": {
              "outlinewidth": 0,
              "ticks": ""
             }
            },
            "type": "scattercarpet"
           }
          ],
          "scattergeo": [
           {
            "marker": {
             "colorbar": {
              "outlinewidth": 0,
              "ticks": ""
             }
            },
            "type": "scattergeo"
           }
          ],
          "scattergl": [
           {
            "marker": {
             "colorbar": {
              "outlinewidth": 0,
              "ticks": ""
             }
            },
            "type": "scattergl"
           }
          ],
          "scattermapbox": [
           {
            "marker": {
             "colorbar": {
              "outlinewidth": 0,
              "ticks": ""
             }
            },
            "type": "scattermapbox"
           }
          ],
          "scatterpolar": [
           {
            "marker": {
             "colorbar": {
              "outlinewidth": 0,
              "ticks": ""
             }
            },
            "type": "scatterpolar"
           }
          ],
          "scatterpolargl": [
           {
            "marker": {
             "colorbar": {
              "outlinewidth": 0,
              "ticks": ""
             }
            },
            "type": "scatterpolargl"
           }
          ],
          "scatterternary": [
           {
            "marker": {
             "colorbar": {
              "outlinewidth": 0,
              "ticks": ""
             }
            },
            "type": "scatterternary"
           }
          ],
          "surface": [
           {
            "colorbar": {
             "outlinewidth": 0,
             "ticks": ""
            },
            "colorscale": [
             [
              0,
              "#0d0887"
             ],
             [
              0.1111111111111111,
              "#46039f"
             ],
             [
              0.2222222222222222,
              "#7201a8"
             ],
             [
              0.3333333333333333,
              "#9c179e"
             ],
             [
              0.4444444444444444,
              "#bd3786"
             ],
             [
              0.5555555555555556,
              "#d8576b"
             ],
             [
              0.6666666666666666,
              "#ed7953"
             ],
             [
              0.7777777777777778,
              "#fb9f3a"
             ],
             [
              0.8888888888888888,
              "#fdca26"
             ],
             [
              1,
              "#f0f921"
             ]
            ],
            "type": "surface"
           }
          ],
          "table": [
           {
            "cells": {
             "fill": {
              "color": "#EBF0F8"
             },
             "line": {
              "color": "white"
             }
            },
            "header": {
             "fill": {
              "color": "#C8D4E3"
             },
             "line": {
              "color": "white"
             }
            },
            "type": "table"
           }
          ]
         },
         "layout": {
          "annotationdefaults": {
           "arrowcolor": "#2a3f5f",
           "arrowhead": 0,
           "arrowwidth": 1
          },
          "autotypenumbers": "strict",
          "coloraxis": {
           "colorbar": {
            "outlinewidth": 0,
            "ticks": ""
           }
          },
          "colorscale": {
           "diverging": [
            [
             0,
             "#8e0152"
            ],
            [
             0.1,
             "#c51b7d"
            ],
            [
             0.2,
             "#de77ae"
            ],
            [
             0.3,
             "#f1b6da"
            ],
            [
             0.4,
             "#fde0ef"
            ],
            [
             0.5,
             "#f7f7f7"
            ],
            [
             0.6,
             "#e6f5d0"
            ],
            [
             0.7,
             "#b8e186"
            ],
            [
             0.8,
             "#7fbc41"
            ],
            [
             0.9,
             "#4d9221"
            ],
            [
             1,
             "#276419"
            ]
           ],
           "sequential": [
            [
             0,
             "#0d0887"
            ],
            [
             0.1111111111111111,
             "#46039f"
            ],
            [
             0.2222222222222222,
             "#7201a8"
            ],
            [
             0.3333333333333333,
             "#9c179e"
            ],
            [
             0.4444444444444444,
             "#bd3786"
            ],
            [
             0.5555555555555556,
             "#d8576b"
            ],
            [
             0.6666666666666666,
             "#ed7953"
            ],
            [
             0.7777777777777778,
             "#fb9f3a"
            ],
            [
             0.8888888888888888,
             "#fdca26"
            ],
            [
             1,
             "#f0f921"
            ]
           ],
           "sequentialminus": [
            [
             0,
             "#0d0887"
            ],
            [
             0.1111111111111111,
             "#46039f"
            ],
            [
             0.2222222222222222,
             "#7201a8"
            ],
            [
             0.3333333333333333,
             "#9c179e"
            ],
            [
             0.4444444444444444,
             "#bd3786"
            ],
            [
             0.5555555555555556,
             "#d8576b"
            ],
            [
             0.6666666666666666,
             "#ed7953"
            ],
            [
             0.7777777777777778,
             "#fb9f3a"
            ],
            [
             0.8888888888888888,
             "#fdca26"
            ],
            [
             1,
             "#f0f921"
            ]
           ]
          },
          "colorway": [
           "#636efa",
           "#EF553B",
           "#00cc96",
           "#ab63fa",
           "#FFA15A",
           "#19d3f3",
           "#FF6692",
           "#B6E880",
           "#FF97FF",
           "#FECB52"
          ],
          "font": {
           "color": "#2a3f5f"
          },
          "geo": {
           "bgcolor": "white",
           "lakecolor": "white",
           "landcolor": "#E5ECF6",
           "showlakes": true,
           "showland": true,
           "subunitcolor": "white"
          },
          "hoverlabel": {
           "align": "left"
          },
          "hovermode": "closest",
          "mapbox": {
           "style": "light"
          },
          "paper_bgcolor": "white",
          "plot_bgcolor": "#E5ECF6",
          "polar": {
           "angularaxis": {
            "gridcolor": "white",
            "linecolor": "white",
            "ticks": ""
           },
           "bgcolor": "#E5ECF6",
           "radialaxis": {
            "gridcolor": "white",
            "linecolor": "white",
            "ticks": ""
           }
          },
          "scene": {
           "xaxis": {
            "backgroundcolor": "#E5ECF6",
            "gridcolor": "white",
            "gridwidth": 2,
            "linecolor": "white",
            "showbackground": true,
            "ticks": "",
            "zerolinecolor": "white"
           },
           "yaxis": {
            "backgroundcolor": "#E5ECF6",
            "gridcolor": "white",
            "gridwidth": 2,
            "linecolor": "white",
            "showbackground": true,
            "ticks": "",
            "zerolinecolor": "white"
           },
           "zaxis": {
            "backgroundcolor": "#E5ECF6",
            "gridcolor": "white",
            "gridwidth": 2,
            "linecolor": "white",
            "showbackground": true,
            "ticks": "",
            "zerolinecolor": "white"
           }
          },
          "shapedefaults": {
           "line": {
            "color": "#2a3f5f"
           }
          },
          "ternary": {
           "aaxis": {
            "gridcolor": "white",
            "linecolor": "white",
            "ticks": ""
           },
           "baxis": {
            "gridcolor": "white",
            "linecolor": "white",
            "ticks": ""
           },
           "bgcolor": "#E5ECF6",
           "caxis": {
            "gridcolor": "white",
            "linecolor": "white",
            "ticks": ""
           }
          },
          "title": {
           "x": 0.05
          },
          "xaxis": {
           "automargin": true,
           "gridcolor": "white",
           "linecolor": "white",
           "ticks": "",
           "title": {
            "standoff": 15
           },
           "zerolinecolor": "white",
           "zerolinewidth": 2
          },
          "yaxis": {
           "automargin": true,
           "gridcolor": "white",
           "linecolor": "white",
           "ticks": "",
           "title": {
            "standoff": 15
           },
           "zerolinecolor": "white",
           "zerolinewidth": 2
          }
         }
        },
        "title": {
         "text": "Cumulative Average RAG Score per Level"
        },
        "xaxis": {
         "anchor": "y",
         "domain": [
          0,
          1
         ],
         "title": {
          "text": "Question Level"
         }
        },
        "yaxis": {
         "anchor": "x",
         "domain": [
          0,
          1
         ],
         "tickformat": ".1%",
         "title": {
          "text": "Cumulative Average RAG Score"
         }
        }
       }
      }
     },
     "metadata": {},
     "output_type": "display_data"
    }
   ],
   "source": [
    "import pandas as pd\n",
    "import plotly.express as px\n",
    "\n",
    "\n",
    "# Convert dictionary to DataFrame\n",
    "df = pd.DataFrame(data)\n",
    "\n",
    "# Calculate cumulative average of RAG scores\n",
    "df['cumulative_rag'] = df['RAG System'].expanding().mean()\n",
    "\n",
    "# Group by Level and calculate the last cumulative average per level\n",
    "cumulative_rag_summary = df.groupby('Level')['cumulative_rag'].last().reset_index()\n",
    "\n",
    "# Creating the bar chart\n",
    "fig = px.line(cumulative_rag_summary, x='Level', y='cumulative_rag',\n",
    "             title='Cumulative Average RAG Score per Level',\n",
    "             labels={'cumulative_rag': 'Cumulative Average RAG Score', 'Level': 'Question Level'},\n",
    "             text='cumulative_rag')\n",
    "\n",
    "# Formatting text as percentage\n",
    "fig.update_traces(texttemplate='%{text:.0%}', textposition='top right')\n",
    "\n",
    "# Update layout for clarity\n",
    "fig.update_layout(yaxis_tickformat='.1%')\n",
    "\n",
    "# Show the graph\n",
    "fig.show()\n"
   ]
  },
  {
   "cell_type": "code",
   "execution_count": 81,
   "metadata": {},
   "outputs": [
    {
     "data": {
      "application/vnd.plotly.v1+json": {
       "config": {
        "plotlyServerURL": "https://plot.ly"
       },
       "data": [
        {
         "hovertemplate": "Level=%{x}<br>cumulative_rag=%{y}<extra></extra>",
         "legendgroup": "",
         "line": {
          "color": "#636efa",
          "dash": "solid"
         },
         "marker": {
          "symbol": "circle"
         },
         "mode": "lines+markers",
         "name": "",
         "orientation": "v",
         "showlegend": false,
         "type": "scatter",
         "x": [
          0,
          1,
          2,
          3,
          4
         ],
         "xaxis": "x",
         "y": [
          0.95,
          0.9,
          0.8666666666666667,
          0.85,
          0.78
         ],
         "yaxis": "y"
        }
       ],
       "layout": {
        "annotations": [
         {
          "arrowhead": 1,
          "ax": -30,
          "ay": -40,
          "showarrow": true,
          "text": "5.26%",
          "x": 1,
          "y": 0.9
         },
         {
          "arrowhead": 1,
          "ax": -30,
          "ay": -40,
          "showarrow": true,
          "text": "3.70%",
          "x": 2,
          "y": 0.8666666666666667
         },
         {
          "arrowhead": 1,
          "ax": -30,
          "ay": -40,
          "showarrow": true,
          "text": "1.92%",
          "x": 3,
          "y": 0.85
         },
         {
          "arrowhead": 1,
          "ax": -30,
          "ay": -40,
          "showarrow": true,
          "text": "8.24%",
          "x": 4,
          "y": 0.78
         }
        ],
        "legend": {
         "tracegroupgap": 0
        },
        "template": {
         "data": {
          "bar": [
           {
            "error_x": {
             "color": "#2a3f5f"
            },
            "error_y": {
             "color": "#2a3f5f"
            },
            "marker": {
             "line": {
              "color": "#E5ECF6",
              "width": 0.5
             },
             "pattern": {
              "fillmode": "overlay",
              "size": 10,
              "solidity": 0.2
             }
            },
            "type": "bar"
           }
          ],
          "barpolar": [
           {
            "marker": {
             "line": {
              "color": "#E5ECF6",
              "width": 0.5
             },
             "pattern": {
              "fillmode": "overlay",
              "size": 10,
              "solidity": 0.2
             }
            },
            "type": "barpolar"
           }
          ],
          "carpet": [
           {
            "aaxis": {
             "endlinecolor": "#2a3f5f",
             "gridcolor": "white",
             "linecolor": "white",
             "minorgridcolor": "white",
             "startlinecolor": "#2a3f5f"
            },
            "baxis": {
             "endlinecolor": "#2a3f5f",
             "gridcolor": "white",
             "linecolor": "white",
             "minorgridcolor": "white",
             "startlinecolor": "#2a3f5f"
            },
            "type": "carpet"
           }
          ],
          "choropleth": [
           {
            "colorbar": {
             "outlinewidth": 0,
             "ticks": ""
            },
            "type": "choropleth"
           }
          ],
          "contour": [
           {
            "colorbar": {
             "outlinewidth": 0,
             "ticks": ""
            },
            "colorscale": [
             [
              0,
              "#0d0887"
             ],
             [
              0.1111111111111111,
              "#46039f"
             ],
             [
              0.2222222222222222,
              "#7201a8"
             ],
             [
              0.3333333333333333,
              "#9c179e"
             ],
             [
              0.4444444444444444,
              "#bd3786"
             ],
             [
              0.5555555555555556,
              "#d8576b"
             ],
             [
              0.6666666666666666,
              "#ed7953"
             ],
             [
              0.7777777777777778,
              "#fb9f3a"
             ],
             [
              0.8888888888888888,
              "#fdca26"
             ],
             [
              1,
              "#f0f921"
             ]
            ],
            "type": "contour"
           }
          ],
          "contourcarpet": [
           {
            "colorbar": {
             "outlinewidth": 0,
             "ticks": ""
            },
            "type": "contourcarpet"
           }
          ],
          "heatmap": [
           {
            "colorbar": {
             "outlinewidth": 0,
             "ticks": ""
            },
            "colorscale": [
             [
              0,
              "#0d0887"
             ],
             [
              0.1111111111111111,
              "#46039f"
             ],
             [
              0.2222222222222222,
              "#7201a8"
             ],
             [
              0.3333333333333333,
              "#9c179e"
             ],
             [
              0.4444444444444444,
              "#bd3786"
             ],
             [
              0.5555555555555556,
              "#d8576b"
             ],
             [
              0.6666666666666666,
              "#ed7953"
             ],
             [
              0.7777777777777778,
              "#fb9f3a"
             ],
             [
              0.8888888888888888,
              "#fdca26"
             ],
             [
              1,
              "#f0f921"
             ]
            ],
            "type": "heatmap"
           }
          ],
          "heatmapgl": [
           {
            "colorbar": {
             "outlinewidth": 0,
             "ticks": ""
            },
            "colorscale": [
             [
              0,
              "#0d0887"
             ],
             [
              0.1111111111111111,
              "#46039f"
             ],
             [
              0.2222222222222222,
              "#7201a8"
             ],
             [
              0.3333333333333333,
              "#9c179e"
             ],
             [
              0.4444444444444444,
              "#bd3786"
             ],
             [
              0.5555555555555556,
              "#d8576b"
             ],
             [
              0.6666666666666666,
              "#ed7953"
             ],
             [
              0.7777777777777778,
              "#fb9f3a"
             ],
             [
              0.8888888888888888,
              "#fdca26"
             ],
             [
              1,
              "#f0f921"
             ]
            ],
            "type": "heatmapgl"
           }
          ],
          "histogram": [
           {
            "marker": {
             "pattern": {
              "fillmode": "overlay",
              "size": 10,
              "solidity": 0.2
             }
            },
            "type": "histogram"
           }
          ],
          "histogram2d": [
           {
            "colorbar": {
             "outlinewidth": 0,
             "ticks": ""
            },
            "colorscale": [
             [
              0,
              "#0d0887"
             ],
             [
              0.1111111111111111,
              "#46039f"
             ],
             [
              0.2222222222222222,
              "#7201a8"
             ],
             [
              0.3333333333333333,
              "#9c179e"
             ],
             [
              0.4444444444444444,
              "#bd3786"
             ],
             [
              0.5555555555555556,
              "#d8576b"
             ],
             [
              0.6666666666666666,
              "#ed7953"
             ],
             [
              0.7777777777777778,
              "#fb9f3a"
             ],
             [
              0.8888888888888888,
              "#fdca26"
             ],
             [
              1,
              "#f0f921"
             ]
            ],
            "type": "histogram2d"
           }
          ],
          "histogram2dcontour": [
           {
            "colorbar": {
             "outlinewidth": 0,
             "ticks": ""
            },
            "colorscale": [
             [
              0,
              "#0d0887"
             ],
             [
              0.1111111111111111,
              "#46039f"
             ],
             [
              0.2222222222222222,
              "#7201a8"
             ],
             [
              0.3333333333333333,
              "#9c179e"
             ],
             [
              0.4444444444444444,
              "#bd3786"
             ],
             [
              0.5555555555555556,
              "#d8576b"
             ],
             [
              0.6666666666666666,
              "#ed7953"
             ],
             [
              0.7777777777777778,
              "#fb9f3a"
             ],
             [
              0.8888888888888888,
              "#fdca26"
             ],
             [
              1,
              "#f0f921"
             ]
            ],
            "type": "histogram2dcontour"
           }
          ],
          "mesh3d": [
           {
            "colorbar": {
             "outlinewidth": 0,
             "ticks": ""
            },
            "type": "mesh3d"
           }
          ],
          "parcoords": [
           {
            "line": {
             "colorbar": {
              "outlinewidth": 0,
              "ticks": ""
             }
            },
            "type": "parcoords"
           }
          ],
          "pie": [
           {
            "automargin": true,
            "type": "pie"
           }
          ],
          "scatter": [
           {
            "fillpattern": {
             "fillmode": "overlay",
             "size": 10,
             "solidity": 0.2
            },
            "type": "scatter"
           }
          ],
          "scatter3d": [
           {
            "line": {
             "colorbar": {
              "outlinewidth": 0,
              "ticks": ""
             }
            },
            "marker": {
             "colorbar": {
              "outlinewidth": 0,
              "ticks": ""
             }
            },
            "type": "scatter3d"
           }
          ],
          "scattercarpet": [
           {
            "marker": {
             "colorbar": {
              "outlinewidth": 0,
              "ticks": ""
             }
            },
            "type": "scattercarpet"
           }
          ],
          "scattergeo": [
           {
            "marker": {
             "colorbar": {
              "outlinewidth": 0,
              "ticks": ""
             }
            },
            "type": "scattergeo"
           }
          ],
          "scattergl": [
           {
            "marker": {
             "colorbar": {
              "outlinewidth": 0,
              "ticks": ""
             }
            },
            "type": "scattergl"
           }
          ],
          "scattermapbox": [
           {
            "marker": {
             "colorbar": {
              "outlinewidth": 0,
              "ticks": ""
             }
            },
            "type": "scattermapbox"
           }
          ],
          "scatterpolar": [
           {
            "marker": {
             "colorbar": {
              "outlinewidth": 0,
              "ticks": ""
             }
            },
            "type": "scatterpolar"
           }
          ],
          "scatterpolargl": [
           {
            "marker": {
             "colorbar": {
              "outlinewidth": 0,
              "ticks": ""
             }
            },
            "type": "scatterpolargl"
           }
          ],
          "scatterternary": [
           {
            "marker": {
             "colorbar": {
              "outlinewidth": 0,
              "ticks": ""
             }
            },
            "type": "scatterternary"
           }
          ],
          "surface": [
           {
            "colorbar": {
             "outlinewidth": 0,
             "ticks": ""
            },
            "colorscale": [
             [
              0,
              "#0d0887"
             ],
             [
              0.1111111111111111,
              "#46039f"
             ],
             [
              0.2222222222222222,
              "#7201a8"
             ],
             [
              0.3333333333333333,
              "#9c179e"
             ],
             [
              0.4444444444444444,
              "#bd3786"
             ],
             [
              0.5555555555555556,
              "#d8576b"
             ],
             [
              0.6666666666666666,
              "#ed7953"
             ],
             [
              0.7777777777777778,
              "#fb9f3a"
             ],
             [
              0.8888888888888888,
              "#fdca26"
             ],
             [
              1,
              "#f0f921"
             ]
            ],
            "type": "surface"
           }
          ],
          "table": [
           {
            "cells": {
             "fill": {
              "color": "#EBF0F8"
             },
             "line": {
              "color": "white"
             }
            },
            "header": {
             "fill": {
              "color": "#C8D4E3"
             },
             "line": {
              "color": "white"
             }
            },
            "type": "table"
           }
          ]
         },
         "layout": {
          "annotationdefaults": {
           "arrowcolor": "#2a3f5f",
           "arrowhead": 0,
           "arrowwidth": 1
          },
          "autotypenumbers": "strict",
          "coloraxis": {
           "colorbar": {
            "outlinewidth": 0,
            "ticks": ""
           }
          },
          "colorscale": {
           "diverging": [
            [
             0,
             "#8e0152"
            ],
            [
             0.1,
             "#c51b7d"
            ],
            [
             0.2,
             "#de77ae"
            ],
            [
             0.3,
             "#f1b6da"
            ],
            [
             0.4,
             "#fde0ef"
            ],
            [
             0.5,
             "#f7f7f7"
            ],
            [
             0.6,
             "#e6f5d0"
            ],
            [
             0.7,
             "#b8e186"
            ],
            [
             0.8,
             "#7fbc41"
            ],
            [
             0.9,
             "#4d9221"
            ],
            [
             1,
             "#276419"
            ]
           ],
           "sequential": [
            [
             0,
             "#0d0887"
            ],
            [
             0.1111111111111111,
             "#46039f"
            ],
            [
             0.2222222222222222,
             "#7201a8"
            ],
            [
             0.3333333333333333,
             "#9c179e"
            ],
            [
             0.4444444444444444,
             "#bd3786"
            ],
            [
             0.5555555555555556,
             "#d8576b"
            ],
            [
             0.6666666666666666,
             "#ed7953"
            ],
            [
             0.7777777777777778,
             "#fb9f3a"
            ],
            [
             0.8888888888888888,
             "#fdca26"
            ],
            [
             1,
             "#f0f921"
            ]
           ],
           "sequentialminus": [
            [
             0,
             "#0d0887"
            ],
            [
             0.1111111111111111,
             "#46039f"
            ],
            [
             0.2222222222222222,
             "#7201a8"
            ],
            [
             0.3333333333333333,
             "#9c179e"
            ],
            [
             0.4444444444444444,
             "#bd3786"
            ],
            [
             0.5555555555555556,
             "#d8576b"
            ],
            [
             0.6666666666666666,
             "#ed7953"
            ],
            [
             0.7777777777777778,
             "#fb9f3a"
            ],
            [
             0.8888888888888888,
             "#fdca26"
            ],
            [
             1,
             "#f0f921"
            ]
           ]
          },
          "colorway": [
           "#636efa",
           "#EF553B",
           "#00cc96",
           "#ab63fa",
           "#FFA15A",
           "#19d3f3",
           "#FF6692",
           "#B6E880",
           "#FF97FF",
           "#FECB52"
          ],
          "font": {
           "color": "#2a3f5f"
          },
          "geo": {
           "bgcolor": "white",
           "lakecolor": "white",
           "landcolor": "#E5ECF6",
           "showlakes": true,
           "showland": true,
           "subunitcolor": "white"
          },
          "hoverlabel": {
           "align": "left"
          },
          "hovermode": "closest",
          "mapbox": {
           "style": "light"
          },
          "paper_bgcolor": "white",
          "plot_bgcolor": "#E5ECF6",
          "polar": {
           "angularaxis": {
            "gridcolor": "white",
            "linecolor": "white",
            "ticks": ""
           },
           "bgcolor": "#E5ECF6",
           "radialaxis": {
            "gridcolor": "white",
            "linecolor": "white",
            "ticks": ""
           }
          },
          "scene": {
           "xaxis": {
            "backgroundcolor": "#E5ECF6",
            "gridcolor": "white",
            "gridwidth": 2,
            "linecolor": "white",
            "showbackground": true,
            "ticks": "",
            "zerolinecolor": "white"
           },
           "yaxis": {
            "backgroundcolor": "#E5ECF6",
            "gridcolor": "white",
            "gridwidth": 2,
            "linecolor": "white",
            "showbackground": true,
            "ticks": "",
            "zerolinecolor": "white"
           },
           "zaxis": {
            "backgroundcolor": "#E5ECF6",
            "gridcolor": "white",
            "gridwidth": 2,
            "linecolor": "white",
            "showbackground": true,
            "ticks": "",
            "zerolinecolor": "white"
           }
          },
          "shapedefaults": {
           "line": {
            "color": "#2a3f5f"
           }
          },
          "ternary": {
           "aaxis": {
            "gridcolor": "white",
            "linecolor": "white",
            "ticks": ""
           },
           "baxis": {
            "gridcolor": "white",
            "linecolor": "white",
            "ticks": ""
           },
           "bgcolor": "#E5ECF6",
           "caxis": {
            "gridcolor": "white",
            "linecolor": "white",
            "ticks": ""
           }
          },
          "title": {
           "x": 0.05
          },
          "xaxis": {
           "automargin": true,
           "gridcolor": "white",
           "linecolor": "white",
           "ticks": "",
           "title": {
            "standoff": 15
           },
           "zerolinecolor": "white",
           "zerolinewidth": 2
          },
          "yaxis": {
           "automargin": true,
           "gridcolor": "white",
           "linecolor": "white",
           "ticks": "",
           "title": {
            "standoff": 15
           },
           "zerolinecolor": "white",
           "zerolinewidth": 2
          }
         }
        },
        "title": {
         "text": "Cumulative Average RAG Score per Level with Percentage Decrease"
        },
        "xaxis": {
         "anchor": "y",
         "domain": [
          0,
          1
         ],
         "title": {
          "text": "Level (Cumulative)"
         }
        },
        "yaxis": {
         "anchor": "x",
         "domain": [
          0,
          1
         ],
         "tickformat": ".1%",
         "title": {
          "text": "Cumulative Average RAG Score"
         }
        }
       }
      }
     },
     "metadata": {},
     "output_type": "display_data"
    }
   ],
   "source": [
    "# Calculate cumulative average of RAG scores\n",
    "df['cumulative_rag'] = df['RAG System'].expanding().mean()\n",
    "\n",
    "# Group by Level and calculate the last cumulative average per level\n",
    "cumulative_rag_summary = df.groupby('Level')['cumulative_rag'].last().reset_index()\n",
    "\n",
    "# Calculate the percentage change between levels\n",
    "cumulative_rag_summary['Percentage Change'] = cumulative_rag_summary['cumulative_rag'].pct_change() * -100\n",
    "\n",
    "# Creating the line chart with percentage decreases\n",
    "fig = px.line(cumulative_rag_summary, x='Level', y='cumulative_rag', markers=True,\n",
    "              title='Cumulative Average RAG Score per Level with Percentage Decrease')\n",
    "\n",
    "# Add annotations for percentage change\n",
    "for i, row in cumulative_rag_summary.iterrows():\n",
    "    if i != 0:  # Skip the first point where there's no previous level to compare to\n",
    "        fig.add_annotation(\n",
    "            x=row['Level'],\n",
    "            y=row['cumulative_rag'],\n",
    "            text=f\"{row['Percentage Change']:.2f}%\",\n",
    "            showarrow=True,\n",
    "            arrowhead=1,\n",
    "            ax=-30,\n",
    "            ay=-40)\n",
    "\n",
    "# Update layout for clarity\n",
    "fig.update_layout(yaxis_tickformat='.1%', \n",
    "                  xaxis_title=\"Level (Cumulative)\",\n",
    "                  yaxis_title=\"Cumulative Average RAG Score\")\n",
    "\n",
    "# Show the graph\n",
    "fig.show()"
   ]
  }
 ],
 "metadata": {
  "kernelspec": {
   "display_name": "base",
   "language": "python",
   "name": "python3"
  },
  "language_info": {
   "codemirror_mode": {
    "name": "ipython",
    "version": 3
   },
   "file_extension": ".py",
   "mimetype": "text/x-python",
   "name": "python",
   "nbconvert_exporter": "python",
   "pygments_lexer": "ipython3",
   "version": "3.10.14"
  }
 },
 "nbformat": 4,
 "nbformat_minor": 2
}
