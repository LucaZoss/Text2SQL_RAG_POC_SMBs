{
 "cells": [
  {
   "cell_type": "code",
   "execution_count": 117,
   "metadata": {},
   "outputs": [
    {
     "name": "stdout",
     "output_type": "stream",
     "text": [
      "/Users/lucazosso/Desktop/IE_Course/weclomeback/welcomeback_dev/evaluation\n",
      "/Users/lucazosso/Desktop/IE_Course/weclomeback/welcomeback_dev/data_science_folder/cleaned\n"
     ]
    }
   ],
   "source": [
    "import pandas as pd\n",
    "import numpy as np\n",
    "import os\n",
    "from pathlib import Path\n",
    "from datetime import datetime\n",
    "cur_dir = Path(os.getcwd())\n",
    "print(cur_dir)\n",
    "\n",
    "\n",
    "\n",
    "# Target directory\n",
    "target_dir = cur_dir.parent / 'data_science_folder/cleaned'\n",
    "\n",
    "print(target_dir)"
   ]
  },
  {
   "cell_type": "markdown",
   "metadata": {},
   "source": [
    "# Evaluation of RAG System"
   ]
  },
  {
   "cell_type": "code",
   "execution_count": 118,
   "metadata": {},
   "outputs": [],
   "source": [
    "hourly_orders_vanilla = pd.read_csv(os.path.join(target_dir, 'hourly_orders_detailed_vanilla.csv'))\n",
    "rfm = pd.read_csv(os.path.join(target_dir, 'rfm_data.csv'))\n",
    "\n",
    "results = {}"
   ]
  },
  {
   "cell_type": "code",
   "execution_count": 119,
   "metadata": {},
   "outputs": [
    {
     "name": "stdout",
     "output_type": "stream",
     "text": [
      "<class 'pandas.core.frame.DataFrame'>\n",
      "RangeIndex: 25019 entries, 0 to 25018\n",
      "Data columns (total 22 columns):\n",
      " #   Column                         Non-Null Count  Dtype  \n",
      "---  ------                         --------------  -----  \n",
      " 0   date                           25019 non-null  object \n",
      " 1   order_id                       25019 non-null  int64  \n",
      " 2   postcode                       24997 non-null  object \n",
      " 3   day_of_week                    25019 non-null  object \n",
      " 4   tot_orders                     25019 non-null  int64  \n",
      " 5   tot_gross_revenue              25019 non-null  float64\n",
      " 6   tot_cogs                       24905 non-null  float64\n",
      " 7   tot_orders_marketplace         25019 non-null  int64  \n",
      " 8   tot_orders_int                 25019 non-null  int64  \n",
      " 9   tot_orders_b2b                 25019 non-null  int64  \n",
      " 10  tot_gross_revenue_mrktpl       25019 non-null  float64\n",
      " 11  tot_gross_revenue_int          25019 non-null  float64\n",
      " 12  tot_gross_revenue_b2b          25019 non-null  float64\n",
      " 13  AOV                            25019 non-null  float64\n",
      " 14  lag_weekday_tot_orders         25008 non-null  float64\n",
      " 15  lag_weekday_tot_gross_revenue  25008 non-null  float64\n",
      " 16  lag_weekday_AOV                25008 non-null  float64\n",
      " 17  customer_id                    25019 non-null  int64  \n",
      " 18  product_name                   25009 non-null  object \n",
      " 19  product_id                     25009 non-null  float64\n",
      " 20  main_category                  25009 non-null  object \n",
      " 21  sub_category                   25009 non-null  object \n",
      "dtypes: float64(10), int64(6), object(6)\n",
      "memory usage: 4.2+ MB\n"
     ]
    }
   ],
   "source": [
    "hourly_orders_vanilla.info()"
   ]
  },
  {
   "cell_type": "code",
   "execution_count": 120,
   "metadata": {},
   "outputs": [],
   "source": [
    "# Parse date to a datetime object\n",
    "hourly_orders_vanilla['date'] = pd.to_datetime(hourly_orders_vanilla['date'])"
   ]
  },
  {
   "cell_type": "code",
   "execution_count": 121,
   "metadata": {},
   "outputs": [],
   "source": [
    "# extract date and month from datetime\n",
    "hourly_orders_vanilla['date'] = pd.to_datetime(hourly_orders_vanilla['date']).dt.date\n",
    "hourly_orders_vanilla['month'] = pd.to_datetime(hourly_orders_vanilla['date']).dt.month\n",
    "hourly_orders_vanilla['year'] = pd.to_datetime(hourly_orders_vanilla['date']).dt.year"
   ]
  },
  {
   "cell_type": "code",
   "execution_count": 122,
   "metadata": {},
   "outputs": [
    {
     "name": "stdout",
     "output_type": "stream",
     "text": [
      "<class 'pandas.core.frame.DataFrame'>\n",
      "RangeIndex: 9781 entries, 0 to 9780\n",
      "Data columns (total 9 columns):\n",
      " #   Column           Non-Null Count  Dtype  \n",
      "---  ------           --------------  -----  \n",
      " 0   customer_id      9781 non-null   int64  \n",
      " 1   recency          9781 non-null   int64  \n",
      " 2   frequency        9781 non-null   float64\n",
      " 3   monetary         9781 non-null   float64\n",
      " 4   recency_score    9781 non-null   int64  \n",
      " 5   frequency_score  9781 non-null   int64  \n",
      " 6   monetary_score   9781 non-null   int64  \n",
      " 7   RFM_Score        9781 non-null   int64  \n",
      " 8   RFM_Segment      9781 non-null   object \n",
      "dtypes: float64(2), int64(6), object(1)\n",
      "memory usage: 687.9+ KB\n"
     ]
    }
   ],
   "source": [
    "# RFM info\n",
    "rfm.info()"
   ]
  },
  {
   "cell_type": "code",
   "execution_count": 123,
   "metadata": {},
   "outputs": [],
   "source": [
    "questions = [\n",
    "    \"Retrieve the total gross revenue for each day of the week\",\n",
    "\n",
    "    \"What are my number of unique customers placing orders each month?\",\n",
    "\n",
    "    \"What are my average order value for each type of order channel?\",\n",
    "\n",
    "    \"List the top 5 zip codes by total number of orders\",\n",
    "\n",
    "    \"List my average order value per month\",\n",
    "\n",
    "    \"What is the average gross revenue by customer segments?\",\n",
    "\n",
    "    \"What is the correaltion between frequency and monetary scores?\",\n",
    "\n",
    "    \"What are the total number of orders placed during weekends versus weekdays?\",\n",
    "\n",
    "    \"What is the percentage of total revenue made by B2B orders?\",\n",
    "\n",
    "    \"Give me a summary of the last complete month's data across all order channels.\"\n",
    "]"
   ]
  },
  {
   "cell_type": "code",
   "execution_count": 124,
   "metadata": {},
   "outputs": [
    {
     "name": "stdout",
     "output_type": "stream",
     "text": [
      "dict_keys(['Retrieve the total gross revenue for each day of the week', 'What are my number of unique customers placing orders each month?', 'What are my average order value for each type of order channel?', 'List the top 5 zip codes by total number of orders', 'List my average order value per month', 'What is the average gross revenue by customer segments?', 'What is the correaltion between frequency and monetary scores?', 'What are the total number of orders placed during weekends versus weekdays?', 'What is the percentage of total revenue made by B2B orders?', \"Give me a summary of the last complete month's data across all order channels.\"])\n"
     ]
    }
   ],
   "source": [
    "# put the questions as keys in the dictionary\n",
    "for question in questions:\n",
    "    results[question] = None\n",
    "    \n",
    "print(results.keys())"
   ]
  },
  {
   "cell_type": "markdown",
   "metadata": {},
   "source": [
    "__Q1: Total gross revenue for each day of the week:__"
   ]
  },
  {
   "cell_type": "code",
   "execution_count": 125,
   "metadata": {},
   "outputs": [],
   "source": [
    "results[questions[0]] = hourly_orders_vanilla.groupby('day_of_week')['tot_gross_revenue'].sum()\n",
    "\n",
    "\n"
   ]
  },
  {
   "cell_type": "markdown",
   "metadata": {},
   "source": [
    "__Q2: Number of unique customers placing orders each month:__"
   ]
  },
  {
   "cell_type": "code",
   "execution_count": 126,
   "metadata": {},
   "outputs": [],
   "source": [
    "results[questions[1]] = hourly_orders_vanilla.groupby('month')['customer_id'].nunique()"
   ]
  },
  {
   "cell_type": "markdown",
   "metadata": {},
   "source": [
    "__Q3: Average order value for each type of order channel:__"
   ]
  },
  {
   "cell_type": "code",
   "execution_count": 127,
   "metadata": {},
   "outputs": [],
   "source": [
    "results[questions[2]]=hourly_orders_vanilla[['tot_gross_revenue_mrktpl', 'tot_gross_revenue_int', 'tot_gross_revenue_b2b']].mean()"
   ]
  },
  {
   "cell_type": "markdown",
   "metadata": {},
   "source": [
    "__Q4: Top 5 zip codes by total number of orders:__"
   ]
  },
  {
   "cell_type": "code",
   "execution_count": 128,
   "metadata": {},
   "outputs": [],
   "source": [
    "results[questions[3]]=hourly_orders_vanilla.groupby('postcode')['tot_orders'].sum().nlargest(5)"
   ]
  },
  {
   "cell_type": "markdown",
   "metadata": {},
   "source": [
    "__Q5: Monthly Trends in Average Order Value (AOV)__"
   ]
  },
  {
   "cell_type": "code",
   "execution_count": 129,
   "metadata": {},
   "outputs": [],
   "source": [
    "results[questions[4]] = hourly_orders_vanilla.groupby('month')['AOV'].mean()\n"
   ]
  },
  {
   "cell_type": "markdown",
   "metadata": {},
   "source": [
    "__Q6: Average gross revenue by customer segment:__"
   ]
  },
  {
   "cell_type": "code",
   "execution_count": 130,
   "metadata": {},
   "outputs": [],
   "source": [
    "results[questions[5]]=rfm.groupby('RFM_Segment')['monetary'].mean()"
   ]
  },
  {
   "cell_type": "markdown",
   "metadata": {},
   "source": [
    "__Q7: Correlation between frequency and monetary scores:__"
   ]
  },
  {
   "cell_type": "code",
   "execution_count": 131,
   "metadata": {},
   "outputs": [],
   "source": [
    "results[questions[6]]=rfm[['frequency_score', 'monetary_score']].corr().iloc[0, 1]"
   ]
  },
  {
   "cell_type": "markdown",
   "metadata": {},
   "source": [
    "__Q8: Orders placed during weekends versus weekdays:__"
   ]
  },
  {
   "cell_type": "code",
   "execution_count": 132,
   "metadata": {},
   "outputs": [],
   "source": [
    "hourly_orders_vanilla['type'] = hourly_orders_vanilla['day_of_week'].apply(lambda x: 'Weekend' if x in ['Saturday', 'Sunday'] else 'Weekday')\n",
    "hourly_orders_vanilla.groupby('type').size()\n",
    "results[questions[7]] = hourly_orders_vanilla.groupby('type').size()"
   ]
  },
  {
   "cell_type": "markdown",
   "metadata": {},
   "source": [
    "__Q9: Percentage of total revenue from B2B orders:__"
   ]
  },
  {
   "cell_type": "code",
   "execution_count": 133,
   "metadata": {},
   "outputs": [
    {
     "name": "stdout",
     "output_type": "stream",
     "text": [
      "0.16100577098289884\n"
     ]
    }
   ],
   "source": [
    "total_b2b_revenue = hourly_orders_vanilla['tot_gross_revenue_b2b'].sum()\n",
    "total_revenue = hourly_orders_vanilla['tot_gross_revenue'].sum()\n",
    "percentage_b2b = (total_b2b_revenue / total_revenue) * 100\n",
    "print(percentage_b2b)\n",
    "results[questions[8]] = percentage_b2b"
   ]
  },
  {
   "cell_type": "markdown",
   "metadata": {},
   "source": [
    "__Q10: Summary of the Latest Complete Month’s Data Across All Order Channels__"
   ]
  },
  {
   "cell_type": "code",
   "execution_count": 134,
   "metadata": {},
   "outputs": [],
   "source": [
    "hourly_orders_2023 = hourly_orders_vanilla[hourly_orders_vanilla['year'] == 2023]\n",
    "last_complete_month = hourly_orders_2023['month'].max()\n",
    "\n",
    "latest_month_data = hourly_orders_2023[hourly_orders_2023['month'] == last_complete_month]\n",
    "\n",
    "summary_last_month = latest_month_data.agg({\n",
    "    'tot_orders_marketplace': 'sum',\n",
    "    'tot_orders_int': 'sum',\n",
    "    'tot_orders_b2b': 'sum',\n",
    "    'tot_gross_revenue_mrktpl': 'sum',\n",
    "    'tot_gross_revenue_int': 'sum',\n",
    "    'tot_gross_revenue_b2b': 'sum'\n",
    "})\n",
    "\n",
    "summary_last_month\n",
    "\n",
    "results[questions[9]] = summary_last_month\n"
   ]
  },
  {
   "cell_type": "markdown",
   "metadata": {},
   "source": [
    "# Evaluation"
   ]
  },
  {
   "cell_type": "code",
   "execution_count": 139,
   "metadata": {},
   "outputs": [
    {
     "name": "stdout",
     "output_type": "stream",
     "text": [
      "Results have been saved to results.txt\n"
     ]
    }
   ],
   "source": [
    "# store results in a .txt file\n",
    "\n",
    "with open('answers.txt', 'w') as f:\n",
    "    for question, answer in results.items():\n",
    "        f.write(f'{question}\\n')\n",
    "        f.write(f'{answer}\\n\\n')\n",
    "\n",
    "print('Results have been saved to results.txt')"
   ]
  },
  {
   "cell_type": "markdown",
   "metadata": {},
   "source": [
    "# Q&A 2"
   ]
  },
  {
   "cell_type": "code",
   "execution_count": 153,
   "metadata": {},
   "outputs": [
    {
     "data": {
      "text/plain": [
       "{'Question:Total Revenue for the Year': None,\n",
       " 'Question:Number of Orders per Customer Segment': None,\n",
       " 'Question:Monthly Change in Average Order Value (AOV)': None,\n",
       " 'Question:Top 10 Highest Grossing Customers and Their Last Order Date': None,\n",
       " 'Question:Year-over-Year Growth Rate by Order Type': None,\n",
       " 'Question:Complex Customer Lifetime Value Analysis': None}"
      ]
     },
     "execution_count": 153,
     "metadata": {},
     "output_type": "execute_result"
    }
   ],
   "source": [
    "results_2 = {\n",
    "}\n",
    "\n",
    "questions_2 = [\n",
    "    \"Total Revenue for the Year\",\n",
    "    \"Number of Orders per Customer Segment\",\n",
    "    \"Monthly Change in Average Order Value (AOV)\",\n",
    "    \"Top 10 Highest Grossing Customers and Their Last Order Date\",\n",
    "    \"Year-over-Year Growth Rate by Order Type\",\n",
    "    \"Complex Customer Lifetime Value Analysis\"\n",
    "]\n",
    "\n",
    "for question in questions_2:\n",
    "    results_2[f'Question:{question}'] = None\n",
    "    \n",
    "results_2\n"
   ]
  },
  {
   "cell_type": "code",
   "execution_count": 154,
   "metadata": {},
   "outputs": [],
   "source": [
    "total_revenue = hourly_orders_vanilla['tot_gross_revenue'].sum()\n",
    "results_2[questions_2[0]] = f'Results:{total_revenue}'"
   ]
  },
  {
   "cell_type": "code",
   "execution_count": 155,
   "metadata": {},
   "outputs": [],
   "source": [
    "orders_per_segment = rfm['RFM_Segment'].value_counts()\n",
    "results_2[questions_2[1]] = f'Results:{orders_per_segment}'"
   ]
  },
  {
   "cell_type": "code",
   "execution_count": 156,
   "metadata": {},
   "outputs": [],
   "source": [
    "monthly_aov = hourly_orders_vanilla.groupby(hourly_orders_vanilla['month'])['AOV'].mean()\n",
    "results_2[questions_2[2]] = f'Results:{monthly_aov}'"
   ]
  },
  {
   "cell_type": "code",
   "execution_count": 157,
   "metadata": {},
   "outputs": [],
   "source": [
    "top_customers = hourly_orders_vanilla.groupby('customer_id').agg({\n",
    "       'tot_gross_revenue': 'sum',\n",
    "       'date': 'max'\n",
    "   }).nlargest(10, 'tot_gross_revenue')\n",
    "\n",
    "results_2[questions_2[3]] = f'Results:{top_customers}'"
   ]
  },
  {
   "cell_type": "code",
   "execution_count": 158,
   "metadata": {},
   "outputs": [],
   "source": [
    "yearly_data = hourly_orders_vanilla.groupby(hourly_orders_vanilla['year']).agg({\n",
    "       'tot_orders_marketplace': 'sum',\n",
    "       'tot_orders_int': 'sum'\n",
    "   })\n",
    "yearly_data['marketplace_growth'] = yearly_data['tot_orders_marketplace'].pct_change() * 100\n",
    "yearly_data['direct_growth'] = yearly_data['tot_orders_int'].pct_change() * 100\n",
    "\n",
    "results_2[questions_2[4]] = f'Results:{yearly_data}'"
   ]
  },
  {
   "cell_type": "code",
   "execution_count": 160,
   "metadata": {},
   "outputs": [],
   "source": [
    "# Calculate total revenue per customer\n",
    "revenue_per_customer = hourly_orders_vanilla.groupby('customer_id')['tot_gross_revenue'].sum().reset_index()\n",
    "\n",
    "# Merge with RFM DataFrame\n",
    "revenue_per_customer = revenue_per_customer.merge(rfm[['customer_id', 'RFM_Segment']], on='customer_id')\n",
    "\n",
    "# Calculate average CLV per RFM Segment\n",
    "average_clv_per_segment = revenue_per_customer.groupby('RFM_Segment')['tot_gross_revenue'].mean()\n",
    "\n",
    "results_2[questions_2[5]] = f'Results:{average_clv_per_segment}'"
   ]
  },
  {
   "cell_type": "markdown",
   "metadata": {},
   "source": [
    "# Evaluation 2"
   ]
  },
  {
   "cell_type": "code",
   "execution_count": 161,
   "metadata": {},
   "outputs": [
    {
     "name": "stdout",
     "output_type": "stream",
     "text": [
      "Results have been saved to results.txt\n"
     ]
    }
   ],
   "source": [
    "\n",
    "with open('answers_2.txt', 'w') as f:\n",
    "    for question, answer in results.items():\n",
    "        f.write(f'{question}\\n')\n",
    "        f.write(f'{answer}\\n\\n')\n",
    "\n",
    "print('Results have been saved to results.txt')"
   ]
  }
 ],
 "metadata": {
  "kernelspec": {
   "display_name": "base",
   "language": "python",
   "name": "python3"
  },
  "language_info": {
   "codemirror_mode": {
    "name": "ipython",
    "version": 3
   },
   "file_extension": ".py",
   "mimetype": "text/x-python",
   "name": "python",
   "nbconvert_exporter": "python",
   "pygments_lexer": "ipython3",
   "version": "3.10.14"
  }
 },
 "nbformat": 4,
 "nbformat_minor": 2
}
